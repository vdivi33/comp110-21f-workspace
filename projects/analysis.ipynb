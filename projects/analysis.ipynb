{
 "cells": [
  {
   "cell_type": "markdown",
   "metadata": {},
   "source": [
    "# PJ01 Choose Your Own Analysis\n",
    "\n",
    "In this Jupyter Notebook I will be testing the following hypothesis.\n",
    "\n",
    "### Hypothesis: If a student is in the in-person section of the class, then they will find the class less difficult.\n"
   ]
  },
  {
   "cell_type": "markdown",
   "metadata": {},
   "source": [
    "### The Auto reload code will allow modules to automatically reload before executing code."
   ]
  },
  {
   "cell_type": "code",
   "execution_count": null,
   "metadata": {},
   "outputs": [],
   "source": [
    "%reload_ext autoreload\n",
    "%autoreload"
   ]
  },
  {
   "cell_type": "markdown",
   "metadata": {},
   "source": [
    "### Gathering the Data\n",
    "This first cell's purpose is to read the raw CSV file into a list of Rows."
   ]
  },
  {
   "cell_type": "code",
   "execution_count": null,
   "metadata": {},
   "outputs": [],
   "source": [
    "from data_utils import read_csv_rows\n",
    "from tabulate import tabulate\n",
    "\n",
    "data_file: str = \"../data/survey.csv\"\n",
    "data_table: list[dict[str, str]] = read_csv_rows(data_file)\n",
    "print(data_table)"
   ]
  },
  {
   "cell_type": "markdown",
   "metadata": {},
   "source": [
    "### Visualizing the general distribution of values for the difficulty coloumn.\n",
    "The purpose of this cell is to put the values of a specified coloumn into a list."
   ]
  },
  {
   "cell_type": "code",
   "execution_count": null,
   "metadata": {},
   "outputs": [],
   "source": [
    "from data_utils import column_values\n",
    "\n",
    "dates: list[str] = column_values(data_table, \"difficulty\")\n",
    "dates"
   ]
  },
  {
   "cell_type": "markdown",
   "metadata": {},
   "source": [
    "### Organizing Data into columns using a dictionary\n",
    "\n",
    "Transforming the data into a coloumn based dictionary will be important later on to comparing two coloumns.\n",
    "\n"
   ]
  },
  {
   "cell_type": "code",
   "execution_count": null,
   "metadata": {},
   "outputs": [],
   "source": [
    "from data_utils import columnar\n",
    "\n",
    "data_cols: dict[str, list[str]] = columnar(data_table)\n",
    "print(data_cols)\n",
    "\n"
   ]
  },
  {
   "cell_type": "markdown",
   "metadata": {},
   "source": [
    "### Head function\n",
    "\n",
    "The ability to restrict the umber of rows displayed is helpful when only a portion is needed."
   ]
  },
  {
   "cell_type": "code",
   "execution_count": null,
   "metadata": {},
   "outputs": [],
   "source": [
    "from data_utils import head\n",
    "\n",
    "data_cols_head: dict[str, list[str]] = head(data_cols, 5)\n",
    "tabulate(data_cols_head, data_cols_head.keys(), \"html\")"
   ]
  },
  {
   "cell_type": "markdown",
   "metadata": {},
   "source": [
    "### Focusing on two coloumns\n",
    "\n",
    "The select function allows me to choose specific coloums to manipulate. \n",
    "\n",
    "### Listing function\n",
    "\n",
    "I imagined that it would be easier to run through two lists simultaneously so that it would be easier to count the number of times a certain value occurs. \n",
    "\n",
    "The Listing function converts the selected coloumn from the select function to a list containing only the values."
   ]
  },
  {
   "cell_type": "code",
   "execution_count": null,
   "metadata": {},
   "outputs": [],
   "source": [
    "from data_utils import select\n",
    "from data_utils import listing\n",
    "\n",
    "\n",
    "section_data: dict[str, list[str]] = select(data_cols,[\"section\"])\n",
    "difficulty_data: dict[str, list[str]] = select(data_cols,[\"difficulty\"])\n",
    "section_list = listing(section_data)\n",
    "difficulty_list = listing(difficulty_data)\n",
    "print(section_list)\n",
    "print(\"\")\n",
    "print(difficulty_list)"
   ]
  },
  {
   "cell_type": "markdown",
   "metadata": {},
   "source": [
    "## Sum function\n",
    "\n",
    "The sum function takes in two lists produced from the listing function. The sum function iterates through each value in each list. For example, if the iterated element in the section list is \"remote\", the element of equal index in the other list will be considered. \n",
    "\n",
    "### Averaging\n",
    "\n",
    "In addition to summing up the difficulty values, the sum function averages the total sum by the length of the data. The average gives me an idea of which section is generally more effective. "
   ]
  },
  {
   "cell_type": "code",
   "execution_count": null,
   "metadata": {},
   "outputs": [],
   "source": [
    "from data_utils import sum\n",
    "\n",
    "summed: dict[str, float] = sum(section_list, difficulty_list)\n",
    "\n",
    "print(summed)"
   ]
  },
  {
   "cell_type": "markdown",
   "metadata": {},
   "source": [
    "### Five Above\n",
    "\n",
    "Counts the number of times that a students responds with a difficulty of 5 or higher. \n",
    "This is helpful for comparing the two coloumns from another perspective."
   ]
  },
  {
   "cell_type": "code",
   "execution_count": null,
   "metadata": {},
   "outputs": [],
   "source": [
    "from data_utils import five_above\n",
    "\n",
    "above: dict[str, int] = five_above(section_list, difficulty_list)\n",
    "print(above)"
   ]
  },
  {
   "cell_type": "markdown",
   "metadata": {},
   "source": [
    "## Graphs\n",
    "\n",
    "The two graphs below allowed me to visualize the differences between the two sections. One graph demonstarting the differences in the averages and the other chart demonstrating the difference in a different perspective. \n",
    "\n"
   ]
  },
  {
   "cell_type": "code",
   "execution_count": null,
   "metadata": {},
   "outputs": [],
   "source": [
    "from matplotlib import pyplot as plt\n",
    "\n",
    "fig, axes = plt.subplots(1, 2, figsize=(12, 5))\n",
    "fig.suptitle(\"Relationship between section type and class difficulty\")\n",
    "\n",
    "\n",
    "axes[0].set_title(\"Average Difficulty\")\n",
    "axes[0].bar(summed.keys(), summed.values())\n",
    "axes[0].tick_params(axis='y', labelrotation = 45)\n",
    "\n",
    "axes[1].set_title(\"# of students with difficulty > 5\")\n",
    "axes[1].bar(above.keys(), above.values())\n",
    "axes[1].tick_params(axis='x', labelrotation = 45)\n"
   ]
  },
  {
   "cell_type": "markdown",
   "metadata": {},
   "source": [
    "# Summary\n",
    "\n",
    "In conclusion, based on the the results of the averages, \"Remote\": 1.62, 'In-Person': 2.95, I can conclude that student a part of the \"In-Person\" section find the class more diffiuclt. This is quite a shocking condlusion because I assumed that with more resources and formal teaching, students will understand the material more thus leading to a generally easier experience. "
   ]
  }
 ],
 "metadata": {
  "interpreter": {
   "hash": "5a4977c14ae7c8b505c950d159ff92e7c26cc45ed49069a31d9d519ae3c6fd25"
  },
  "kernelspec": {
   "display_name": "Python 3.9.7 64-bit (windows store)",
   "name": "python3"
  },
  "language_info": {
   "codemirror_mode": {
    "name": "ipython",
    "version": 3
   },
   "file_extension": ".py",
   "mimetype": "text/x-python",
   "name": "python",
   "nbconvert_exporter": "python",
   "pygments_lexer": "ipython3",
   "version": "3.9.7"
  },
  "orig_nbformat": 4
 },
 "nbformat": 4,
 "nbformat_minor": 2
}
